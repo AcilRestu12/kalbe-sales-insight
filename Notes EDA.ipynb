{
 "cells": [
  {
   "cell_type": "markdown",
   "metadata": {},
   "source": [
    "## Notes"
   ]
  },
  {
   "cell_type": "code",
   "execution_count": null,
   "metadata": {},
   "outputs": [],
   "source": [
    "# Distribusi Jumlah Quantity\n",
    "plt.figure(figsize=(10, 6))\n",
    "sns.histplot(data=daily_combined, x='quantity', bins=30, kde=True)\n",
    "plt.title('Distribution of Daily Quantity')\n",
    "plt.xlabel('Quantity')\n",
    "plt.ylabel('Frequency')\n",
    "plt.show()\n",
    "\n",
    "# Tren Waktu\n",
    "plt.figure(figsize=(12, 6))\n",
    "sns.lineplot(x='date', y='quantity', data=daily_combined.groupby('date')['quantity'].sum().reset_index())\n",
    "plt.title('Total Daily Quantity Over Time')\n",
    "plt.xlabel('Date')\n",
    "plt.ylabel('Total Quantity')\n",
    "plt.xticks(rotation=45)\n",
    "plt.tight_layout()\n",
    "plt.show()\n",
    "\n",
    "# Korelasi antara Quantity dengan Harga (contoh, jika ada data harga)\n",
    "merged_data = pd.merge(daily_combined, price_data, on=['date', 'product_id'], how='left')\n",
    "plt.figure(figsize=(10, 6))\n",
    "sns.scatterplot(x='price', y='quantity', data=merged_data)\n",
    "plt.title('Correlation between Quantity and Price')\n",
    "plt.xlabel('Price')\n",
    "plt.ylabel('Quantity')\n",
    "plt.show()\n",
    "\n",
    "# Decompose Time Series\n",
    "from statsmodels.tsa.seasonal import seasonal_decompose\n",
    "decomposition = seasonal_decompose(daily_combined.groupby('date')['quantity'].sum(), period=30)  # Misalnya, periode musiman 30 hari\n",
    "fig = decomposition.plot()\n",
    "fig.set_size_inches(12, 6)\n",
    "plt.show()\n"
   ]
  },
  {
   "cell_type": "markdown",
   "metadata": {},
   "source": [
    "Tentu, setelah melakukan visualisasi dari jumlah qty setiap product ID, langkah selanjutnya dalam Exploratory Data Analysis (EDA) bisa mencakup beberapa aspek tambahan seperti:\n",
    "\n",
    "- Distribusi Jumlah Quantity: Melihat distribusi jumlah quantity secara keseluruhan atau per product ID. Ini bisa dilakukan dengan histogram atau density plot.\n",
    "- Tren Waktu: Selain melihat jumlah quantity per harian, kita bisa mengidentifikasi tren waktu, pola harian, mingguan, atau bulanan.\n",
    "- Outlier: Identifikasi adanya outlier yang mungkin mempengaruhi analisis kita.\n",
    "- Korelasi: Mengecek apakah ada korelasi antara tanggal atau periode tertentu dengan jumlah quantity.\n",
    "- Musimality: Apakah terdapat pola musiman dalam data?\n",
    "- Analisis Lag: Apakah jumlah quantity hari ini berkaitan dengan jumlah quantity beberapa hari sebelumnya?\n",
    "- Bandingkan dengan Data Lain: Apakah ada faktor eksternal seperti promo, liburan, atau event tertentu yang dapat mempengaruhi jumlah quantity?\n",
    "- Deskripsi Statistik Tambahan: Mendapatkan informasi statistik seperti rata-rata, median, dll. bisa memberikan wawasan tambahan tentang data.\n",
    "- Korelasi dengan Variabel Lain: Jika ada data tambahan seperti harga produk, dapat dilihat apakah adanya korelasi antara harga dan jumlah quantity.\n",
    "- Decompose Time Series: Melakukan decompose pada time series menjadi komponen-komponen seperti tren, musim, dan residu.\n",
    "- Analisis Keterlambatan: Apakah ada keterlambatan antara perubahan jumlah quantity dengan event-event tertentu?"
   ]
  },
  {
   "cell_type": "code",
   "execution_count": null,
   "metadata": {},
   "outputs": [],
   "source": [
    "# Set Index\n",
    "# df = df.set_index('Date')\n",
    "# df.index = pd.to_datetime(df.index, format=\"%d/%m/%Y\")\n",
    "# df = df.sort_index()"
   ]
  },
  {
   "cell_type": "code",
   "execution_count": null,
   "metadata": {},
   "outputs": [],
   "source": [
    "# Visualisasi data waktu\n",
    "plt.figure(figsize=(10, 6))\n",
    "sns.lineplot(x='Date', y='Qty', data=df, marker='o')\n",
    "plt.xlabel('Date')\n",
    "plt.ylabel('Quantity')\n",
    "plt.title('Quantity Sold Over Time')\n",
    "plt.xticks(rotation=45)\n",
    "plt.show()"
   ]
  },
  {
   "cell_type": "code",
   "execution_count": null,
   "metadata": {},
   "outputs": [],
   "source": [
    "# Distribusi jumlah produk terjual\n",
    "plt.figure(figsize=(8, 5))\n",
    "sns.histplot(df['Qty'], kde=True)\n",
    "plt.xlabel('Quantity')\n",
    "plt.ylabel('Density')\n",
    "plt.title('Distribution of Quantity Sold')\n",
    "plt.show()"
   ]
  },
  {
   "cell_type": "code",
   "execution_count": null,
   "metadata": {},
   "outputs": [],
   "source": [
    "# Korelasi antara quantity dan product_id\n",
    "plt.figure(figsize=(8, 6))\n",
    "sns.boxplot(x='ProductID', y='Qty', data=df)\n",
    "plt.xlabel('Product ID')\n",
    "plt.ylabel('Quantity')\n",
    "plt.title('Quantity Distribution by Product')\n",
    "plt.show()"
   ]
  },
  {
   "cell_type": "code",
   "execution_count": null,
   "metadata": {},
   "outputs": [],
   "source": [
    "# Menampilkan total baris dan kolom\n",
    "print(f'Total baris pada datset : {df.shape[0]}')\n",
    "print(f'Total kolom pada datset : {df.shape[1]}')"
   ]
  },
  {
   "cell_type": "code",
   "execution_count": null,
   "metadata": {},
   "outputs": [],
   "source": [
    "# Menampilkan informasi kolom\n",
    "df.info()"
   ]
  },
  {
   "cell_type": "code",
   "execution_count": null,
   "metadata": {},
   "outputs": [],
   "source": [
    "# Melihat 5 data teratas\n",
    "df.head()"
   ]
  },
  {
   "cell_type": "code",
   "execution_count": null,
   "metadata": {},
   "outputs": [],
   "source": [
    "# Mengecek missing value\n",
    "df.isnull().sum()"
   ]
  },
  {
   "cell_type": "code",
   "execution_count": null,
   "metadata": {},
   "outputs": [],
   "source": [
    "# Menghapus missing value\n",
    "df = df.dropna()"
   ]
  },
  {
   "cell_type": "code",
   "execution_count": null,
   "metadata": {},
   "outputs": [],
   "source": [
    "# Menghapus data duplicate\n",
    "df = df.drop_duplicates()"
   ]
  },
  {
   "cell_type": "code",
   "execution_count": null,
   "metadata": {},
   "outputs": [],
   "source": [
    "for i, row in df.iterrows(): \n",
    "    if i == i-1:\n",
    "        print(row['Date'])\n",
    "        print(row['ProductID'])\n",
    "        print(row['Qty'])"
   ]
  },
  {
   "cell_type": "code",
   "execution_count": null,
   "metadata": {},
   "outputs": [],
   "source": [
    "df.head()"
   ]
  },
  {
   "cell_type": "code",
   "execution_count": null,
   "metadata": {},
   "outputs": [],
   "source": [
    "# Menampilkan grafik dataset\n",
    "df['Qty'].plot(style='.',\n",
    "        figsize=(15, 5),\n",
    "        title='Total Quantity Harian')\n",
    "plt.show()"
   ]
  }
 ],
 "metadata": {
  "language_info": {
   "name": "python"
  },
  "orig_nbformat": 4
 },
 "nbformat": 4,
 "nbformat_minor": 2
}
